{
 "cells": [
  {
   "cell_type": "markdown",
   "id": "032ec4bc-a542-4a93-9177-6923cbba707d",
   "metadata": {},
   "source": [
    "# Image Reconstruction by Deconvolution, Denoising and Fusion"
   ]
  },
  {
   "cell_type": "code",
   "execution_count": null,
   "id": "8ccac0cd-2847-495b-900e-ee15e70e3ddf",
   "metadata": {},
   "outputs": [],
   "source": [
    "from PIL import Image\n",
    "from jupyter_compare_view import compare as compare_view\n",
    "\n",
    "dtype = \"float32\"\n",
    "import pyxu.runtime as pxrt\n",
    "pxrt._setPrecision(pxrt.Width.SINGLE)\n",
    "\n",
    "GPU = True\n",
    "\n",
    "if GPU:\n",
    "    import cupy as xp\n",
    "    compare = lambda x, y, **kwargs: compare_view(x.get(), y.get(), **kwargs)\n",
    "else: \n",
    "    import numpy as xp\n",
    "    compare = compare_view\n",
    "\n",
    "# Load the image\n",
    "image_path = '../data/EPFL_aereal.jpeg'\n",
    "ground_truth_image = Image.open(image_path)\n",
    "ground_truth_image"
   ]
  },
  {
   "cell_type": "code",
   "execution_count": null,
   "id": "62953ba0-0dcb-46f3-8103-71cc7fd1c405",
   "metadata": {},
   "outputs": [],
   "source": [
    "# Convert the image to a numpy array\n",
    "image = xp.array(ground_truth_image)[-512:, -1024:].astype(dtype) / 255.\n",
    "\n",
    "dim_shape = image.shape\n",
    "print(dim_shape)"
   ]
  },
  {
   "cell_type": "markdown",
   "id": "7eeb2825-c0cb-4f18-89ee-43c7049bde6a",
   "metadata": {},
   "source": [
    "## Lens \n"
   ]
  },
  {
   "cell_type": "code",
   "execution_count": null,
   "id": "eb6b70b4-ace6-4ebf-ac66-034e54fec4f2",
   "metadata": {},
   "outputs": [],
   "source": [
    "import scipy.signal as ss\n",
    "\n",
    "def get_window(name, size):\n",
    "    return xp.array(ss.get_window(name, size), dtype=dtype)"
   ]
  },
  {
   "cell_type": "code",
   "execution_count": null,
   "id": "2ceb4e7b-14fa-4320-8d67-366ac0a8cdf1",
   "metadata": {},
   "outputs": [],
   "source": [
    "import pyxu.runtime as pxrt\n",
    "import pyxu.operator as pxo\n",
    "\n",
    "wsize = 20\n",
    "filt = get_window('hamming', wsize)\n",
    "psf = filt / filt.sum()\n",
    "\n",
    "lens_op = pxo.Convolve(\n",
    "    dim_shape=dim_shape,\n",
    "    kernel=[psf, psf, xp.array(1., dtype=dtype)], \n",
    "    center=[wsize//2, wsize//2, 0], \n",
    ")\n",
    "\n",
    "print(lens_op.lipschitz)"
   ]
  },
  {
   "cell_type": "code",
   "execution_count": null,
   "id": "e2794d7a-3762-42ce-a211-af90cab6c0fb",
   "metadata": {},
   "outputs": [],
   "source": [
    "# Convolution with PSF\n",
    "data_lens = lens_op(image)"
   ]
  },
  {
   "cell_type": "code",
   "execution_count": null,
   "id": "ac982bc3-ff80-457b-b46a-23085e05d84e",
   "metadata": {},
   "outputs": [],
   "source": [
    "compare(data_lens, image, circle_fraction=0.1)"
   ]
  },
  {
   "cell_type": "markdown",
   "id": "13e765fa-23c8-4b5b-ab7a-e765f2be06e8",
   "metadata": {},
   "source": [
    "## Pinhole photography"
   ]
  },
  {
   "cell_type": "code",
   "execution_count": null,
   "id": "800eee9a-d20b-4a97-86d0-635d6ed9ba6e",
   "metadata": {},
   "outputs": [],
   "source": [
    " # Tapering\n",
    "tukey_window = xp.outer(get_window('tukey', image.shape[1]), get_window('tukey', image.shape[0]))\n",
    "taper_op = pxo.DiagonalOp(xp.tile(tukey_window, (3, 1, 1)).T)\n",
    "taper_op.lipschitz = taper_op.estimate_lipschitz()\n",
    "\n",
    "# Partial Masking \n",
    "mask = xp.ones(image.shape, dtype=dtype)\n",
    "mask[100:250, 200:300] = 0.1\n",
    "mask[250:300, 700:750] = 0.3\n",
    "mask_op = pxo.DiagonalOp(vec=mask, dim_shape=dim_shape)\n",
    "mask_op.lipschitz = mask_op.estimate_lipschitz()\n",
    "\n",
    "# Compose Tapering and Masking operators\n",
    "pinhole_op = mask_op * taper_op\n",
    "pinhole_op.lipschitz"
   ]
  },
  {
   "cell_type": "code",
   "execution_count": null,
   "id": "4ee87376-db98-42f0-89d9-a49054fe19c0",
   "metadata": {},
   "outputs": [],
   "source": [
    "data_pinhole = pinhole_op(image) # Low exposure \n",
    "data_pinhole = xp.clip(xp.random.normal(loc=data_pinhole, scale=xp.sqrt(data_pinhole)/4).astype(dtype), a_min=0, a_max=1) # shot noise"
   ]
  },
  {
   "cell_type": "code",
   "execution_count": null,
   "id": "39014d5e-2924-4fdb-97c8-85167340f506",
   "metadata": {},
   "outputs": [],
   "source": [
    "compare(data_pinhole, image, circle_fraction=0.1)"
   ]
  },
  {
   "cell_type": "code",
   "execution_count": null,
   "id": "06658df8-546a-4939-8d95-1128a12a0b56",
   "metadata": {},
   "outputs": [],
   "source": [
    "data_merge = xp.concatenate([data_pinhole[:, :500], data_lens[:, 500:]], axis=1)\n",
    "compare(data_merge, image, circle_fraction=0.1)"
   ]
  },
  {
   "cell_type": "markdown",
   "id": "92867f5c-3e92-4e64-9db9-15e4a8f64ebd",
   "metadata": {},
   "source": [
    "## Pseudo-inverse Solution"
   ]
  },
  {
   "cell_type": "code",
   "execution_count": null,
   "id": "4719b0c5-8d38-47e2-81cf-7173a8fcdae9",
   "metadata": {},
   "outputs": [],
   "source": [
    "import pyxu.operator.blocks as pxb\n",
    "sensing_op = pxb.stack([0.7*lens_op,0.3*pinhole_op])"
   ]
  },
  {
   "cell_type": "code",
   "execution_count": null,
   "id": "9a14f0fd-30c2-4973-b18a-175c2c01f43d",
   "metadata": {},
   "outputs": [],
   "source": [
    "sensing_op"
   ]
  },
  {
   "cell_type": "code",
   "execution_count": null,
   "id": "c9eeae4b-04a0-4201-b2b3-047f17bf1675",
   "metadata": {},
   "outputs": [],
   "source": [
    "data = xp.stack([0.7*data_lens, 0.3*data_pinhole])\n",
    "data.shape"
   ]
  },
  {
   "cell_type": "code",
   "execution_count": null,
   "id": "23ae74ba-cba8-4234-939e-c4e8dabca57a",
   "metadata": {},
   "outputs": [],
   "source": [
    "adj_recon = sensing_op.adjoint(data)"
   ]
  },
  {
   "cell_type": "code",
   "execution_count": null,
   "id": "6fc6fe4d-3c75-44e9-b7f2-1696bf6dc2b7",
   "metadata": {},
   "outputs": [],
   "source": [
    "compare(adj_recon, data_merge, circle_fraction=0.1)"
   ]
  },
  {
   "cell_type": "code",
   "execution_count": null,
   "id": "a03bb3a6-6634-400f-a1de-6b8eb0e1d84b",
   "metadata": {},
   "outputs": [],
   "source": [
    "import pyxu.opt.stop as pxst\n",
    "\n",
    "stop_crit = pxst.RelError(eps=1e-3, var=\"x\", f=None, norm=2, satisfy_all=True) | pxst.MaxIter(500)\n",
    "\n",
    "\n",
    "pinv_solution = sensing_op.pinv(data, damp=0.01,\n",
    "                         kwargs_init=dict(verbosity=500),\n",
    "                         kwargs_fit=dict(stop_crit=stop_crit))\n",
    "\n",
    "# use util.TO_NUMPY before saving to ZARR\n",
    "# solvers --> not save by default (solver.__innit__ and solver.step)"
   ]
  },
  {
   "cell_type": "code",
   "execution_count": null,
   "id": "b8a0511a-7a3f-4f6e-85b3-e62b5bce664c",
   "metadata": {},
   "outputs": [],
   "source": [
    "compare(pinv_solution.clip(0, 1), data_merge, circle_fraction=0.1)"
   ]
  },
  {
   "cell_type": "markdown",
   "id": "f71b0992-886d-4dc0-b795-04ea743312de",
   "metadata": {
    "jp-MarkdownHeadingCollapsed": true
   },
   "source": [
    "## Bayesian Inversion"
   ]
  },
  {
   "cell_type": "markdown",
   "id": "d796a5ab-283e-452b-a3c0-64dbd16938b6",
   "metadata": {},
   "source": [
    "## Likelihood"
   ]
  },
  {
   "cell_type": "code",
   "execution_count": null,
   "id": "21e8b72c-2b94-4923-ad7f-daa4c6cf1258",
   "metadata": {},
   "outputs": [],
   "source": [
    "theta = 10, 0.006\n",
    "\n",
    "loss_lens = theta[0] * pxo.SquaredL2Norm(dim_shape=dim_shape).argshift(-data_lens) * lens_op\n",
    "loss_pinhole = theta[1] * pxo.L1Norm(dim_shape=dim_shape).moreau_envelope(0.01).argshift(-data_pinhole) * pinhole_op\n",
    "loss = loss_lens + loss_pinhole"
   ]
  },
  {
   "cell_type": "markdown",
   "id": "160a88c0-1e6f-4e86-b249-617abf5f85e9",
   "metadata": {},
   "source": [
    "### Prior"
   ]
  },
  {
   "cell_type": "code",
   "execution_count": null,
   "id": "0bee765d-9c3b-44db-a530-b83188dfd1d4",
   "metadata": {},
   "outputs": [],
   "source": [
    "# Define multi-channel TV prior\n",
    "grad_kwags = {\"dim_shape\":dim_shape, \"directions\":(0, 1), \"accuracy\":4, \"mode\":\"constant\", \"gpu\":GPU, \"dtype\":dtype}\n",
    "\n",
    "grad = pxo.Gradient(**grad_kwags)\n",
    "lambda_= .005\n",
    "l21_norm = lambda_ * pxo.L21Norm(dim_shape=grad.codim_shape, l2_axis=(0, 3))\n",
    "# Positivity constraint\n",
    "pos_constraint = pxo.PositiveOrthant(dim_shape=dim_shape)"
   ]
  },
  {
   "cell_type": "code",
   "execution_count": null,
   "id": "e45f593d-9503-410d-a5eb-fca1c1e898f2",
   "metadata": {},
   "outputs": [],
   "source": [
    "loss.diff_lipschitz"
   ]
  },
  {
   "cell_type": "code",
   "execution_count": null,
   "id": "74d271ed-f973-4c0b-8dba-1a37e1a6f69e",
   "metadata": {},
   "outputs": [],
   "source": [
    "import pyxu.opt.solver as pxsol\n",
    "\n",
    "# Stopping criterion\n",
    "default_stop_crit = (pxst.RelError(eps=1e-3, var=\"x\", f=None, norm=2, satisfy_all=True) & \n",
    "                    pxst.RelError(eps=1e-3, var=\"z\", f=None, norm=2, satisfy_all=True) &\n",
    "                    pxst.MaxIter(20)) | pxst.MaxIter(1000)\n",
    "\n",
    "# Initialize solver (Condat-Vu primal-dual splitting algorithm in this case)\n",
    "solver = pxsol.CondatVu(f=loss, g=pos_constraint, h=l21_norm, K=grad, verbosity=100)\n",
    "\n",
    "# Fit  \n",
    "solver.fit(\n",
    "    x0=pinv_solution, \n",
    "    tuning_strategy=2, \n",
    "    stop_crit=default_stop_crit\n",
    ")\n",
    "isotv_solution = solver.solution()"
   ]
  },
  {
   "cell_type": "code",
   "execution_count": null,
   "id": "4a71cc6d-3d23-4bdc-954c-b112a273a534",
   "metadata": {},
   "outputs": [],
   "source": [
    "compare(isotv_solution.clip(0, 1), pinv_solution.clip(0, 1), circle_fraction=0.1)"
   ]
  },
  {
   "cell_type": "markdown",
   "id": "b5c17921-1deb-415a-afce-fc0da2a7fd9d",
   "metadata": {},
   "source": [
    "### Plug and Play"
   ]
  },
  {
   "cell_type": "code",
   "execution_count": null,
   "id": "9e5b11b6-5b49-449e-a421-01538c7ea54a",
   "metadata": {},
   "outputs": [],
   "source": [
    "from pyxu.abc.operator import ProxFunc\n",
    "from pyxu.info.deps import NDArrayInfo\n",
    "\n",
    "class MedianFilter(ProxFunc):\n",
    "    def __init__(self, dim_shape, filter_size=3):\n",
    "        super().__init__(dim_shape=dim_shape, codim_shape=(1,))\n",
    "        self._filter_size = filter_size\n",
    "        \n",
    "    def apply(self, arr):\n",
    "        return NotImplemented\n",
    "        \n",
    "    def prox(self, arr, tau=None):\n",
    "        if NDArrayInfo.from_obj(arr) == NDArrayInfo.NUMPY:\n",
    "            import scipy.ndimage as cpu_ndimage\n",
    "            median_filter = cpu_ndimage.median_filter\n",
    "        if NDArrayInfo.from_obj(arr) == NDArrayInfo.CUPY:\n",
    "            import cupyx.scipy.ndimage as gpu_ndimage\n",
    "            median_filter = gpu_ndimage.median_filter\n",
    "        return median_filter(arr, size=self._filter_size)\n",
    "\n",
    "median_op = MedianFilter(dim_shape=dim_shape, filter_size=(3, 3, 1))"
   ]
  },
  {
   "cell_type": "code",
   "execution_count": null,
   "id": "61338399-0bba-40de-a401-deadaee330b4",
   "metadata": {},
   "outputs": [],
   "source": [
    "solver = pxsol.PGD(f=loss, g=median_op, verbosity=100)\n",
    "\n",
    "solver.fit(x0=pinv_solution, acceleration=True, stop_crit=pxst.MaxIter(250))\n",
    "pnp_recons = solver.solution()"
   ]
  },
  {
   "cell_type": "code",
   "execution_count": null,
   "id": "39f41036-e6b1-4b51-b08b-e87898cf9468",
   "metadata": {},
   "outputs": [],
   "source": [
    "compare(pnp_recons.clip(0, 1), isotv_solution.clip(0, 1), circle_fraction=0.1)"
   ]
  },
  {
   "cell_type": "markdown",
   "id": "567e2d27-9eeb-4bc8-b787-4443b369a2d2",
   "metadata": {},
   "source": [
    "### Interoperability with PyTorch"
   ]
  },
  {
   "cell_type": "code",
   "execution_count": null,
   "id": "f77b4b93-1715-47f8-890d-fd7264ec9325",
   "metadata": {},
   "outputs": [],
   "source": [
    "import torch\n",
    "from torch import nn\n",
    "\n",
    "class Autoencoder(nn.Module):\n",
    "    def __init__(self):\n",
    "        super().__init__()\n",
    "        # Encoder\n",
    "        self.encoder = nn.Sequential(\n",
    "            nn.Conv2d(3, 64, kernel_size=4, stride=2, padding=1),\n",
    "            nn.BatchNorm2d(64),\n",
    "            nn.ReLU(True),\n",
    "            nn.Dropout(0.25),\n",
    "            nn.Conv2d(64, 128, kernel_size=4, stride=2, padding=1),\n",
    "            nn.BatchNorm2d(128),\n",
    "            nn.ReLU(True),\n",
    "            nn.Dropout(0.25),\n",
    "            nn.Conv2d(128, 256, kernel_size=4, stride=2, padding=1),\n",
    "            nn.BatchNorm2d(256),\n",
    "            nn.ReLU(True),\n",
    "            nn.Dropout(0.25),\n",
    "            nn.Conv2d(256, 512, kernel_size=4, stride=2, padding=1),\n",
    "            nn.BatchNorm2d(512),\n",
    "            nn.ReLU(True),\n",
    "            nn.Dropout(0.25),\n",
    "            nn.Conv2d(512, 512, kernel_size=4, stride=2, padding=1),\n",
    "            nn.BatchNorm2d(512),\n",
    "            nn.ReLU(True),\n",
    "            nn.Dropout(0.25)\n",
    "        )\n",
    "        # Decoder\n",
    "        self.decoder = nn.Sequential(\n",
    "            nn.ConvTranspose2d(512, 512, kernel_size=4, stride=2, padding=1),\n",
    "            nn.BatchNorm2d(512),\n",
    "            nn.ReLU(True),\n",
    "            nn.Dropout(0.25),\n",
    "            nn.ConvTranspose2d(512, 256, kernel_size=4, stride=2, padding=1),\n",
    "            nn.BatchNorm2d(256),\n",
    "            nn.ReLU(True),\n",
    "            nn.Dropout(0.25),\n",
    "            nn.ConvTranspose2d(256, 128, kernel_size=4, stride=2, padding=1),\n",
    "            nn.BatchNorm2d(128),\n",
    "            nn.ReLU(True),\n",
    "            nn.Dropout(0.25),\n",
    "            nn.ConvTranspose2d(128, 64, kernel_size=4, stride=2, padding=1),\n",
    "            nn.BatchNorm2d(64),\n",
    "            nn.ReLU(True),\n",
    "            nn.Dropout(0.25),\n",
    "            nn.ConvTranspose2d(64, 3, kernel_size=4, stride=2, padding=1),\n",
    "            nn.Sigmoid()\n",
    "        )\n",
    "\n",
    "    def forward(self, x):\n",
    "        x = self.encoder(x)\n",
    "        x = self.decoder(x)\n",
    "        return x\n",
    "\n",
    "model = Autoencoder()\n",
    "model.load_state_dict(torch.load(\"../data/nn/ae_trained.pth\"))\n",
    "model.eval()\n",
    "device = torch.device('cuda' if (torch.cuda.is_available() & GPU) else 'cpu')\n",
    "model.to(device)"
   ]
  },
  {
   "cell_type": "code",
   "execution_count": null,
   "id": "b5c5dd47-25bd-4316-b8a4-9b3224cdb7b4",
   "metadata": {},
   "outputs": [],
   "source": [
    "from pyxu.operator.interop import from_torch\n",
    "\n",
    "def denoiser_prox(arr, tau):\n",
    "    with torch.no_grad():\n",
    "        torch_input = arr.reshape(1, *dim_shape).permute(0, 3, 1, 2)\n",
    "        im_denoised = model(torch_input)\n",
    "        torch_output = im_denoised.squeeze().permute(1, 2, 0)\n",
    "    return torch_output\n",
    "\n",
    "nn_denoiser = from_torch(\n",
    "    apply=None,\n",
    "    prox=denoiser_prox,\n",
    "    dim_shape=dim_shape,\n",
    "    codim_shape=1,\n",
    "    cls=ProxFunc,\n",
    "    dtype=\"float32\",\n",
    "    enable_warnings=True,\n",
    "    name='nn_denoiser',\n",
    ")"
   ]
  },
  {
   "cell_type": "code",
   "execution_count": null,
   "id": "b23631b8-a831-4cdf-a0db-c7b586cb2a97",
   "metadata": {},
   "outputs": [],
   "source": [
    "denoised_pinv = nn_denoiser.prox(pinv_solution, None)\n",
    "compare(denoised_pinv.clip(0,1), data_merge.clip(0,1))"
   ]
  },
  {
   "cell_type": "code",
   "execution_count": null,
   "id": "bb4226ba-4cac-45fc-b665-dc0614d40c5c",
   "metadata": {
    "scrolled": true
   },
   "outputs": [],
   "source": [
    "solver = pxsol.PGD(f=loss, g=nn_denoiser, verbosity=100)\n",
    "\n",
    "solver.fit(x0=pinv_solution, acceleration=True, stop_crit=pxst.MaxIter(100))\n",
    "pytorch_recons = solver.solution()\n",
    "\n",
    "# Change verbosity"
   ]
  },
  {
   "cell_type": "code",
   "execution_count": null,
   "id": "e92f3064-200b-437f-bd22-6c7b524bc4c6",
   "metadata": {},
   "outputs": [],
   "source": [
    "compare(pytorch_recons.clip(0, 1), data_merge)"
   ]
  },
  {
   "cell_type": "code",
   "execution_count": null,
   "id": "98f564cd-121b-4810-95ff-110eee03a4bb",
   "metadata": {},
   "outputs": [],
   "source": []
  }
 ],
 "metadata": {
  "kernelspec": {
   "display_name": "Python 3 (ipykernel)",
   "language": "python",
   "name": "python3"
  },
  "language_info": {
   "codemirror_mode": {
    "name": "ipython",
    "version": 3
   },
   "file_extension": ".py",
   "mimetype": "text/x-python",
   "name": "python",
   "nbconvert_exporter": "python",
   "pygments_lexer": "ipython3",
   "version": "3.11.8"
  }
 },
 "nbformat": 4,
 "nbformat_minor": 5
}
