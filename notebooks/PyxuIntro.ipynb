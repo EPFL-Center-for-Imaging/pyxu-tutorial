{
 "cells": [
  {
   "cell_type": "markdown",
   "id": "93c3e628-4976-47ea-ab4f-8db0f7992965",
   "metadata": {},
   "source": [
    "<p align=\"center\">\n",
    "<img src=\"https://pyxu-org.github.io/_static/logo.png\" alt= \"\" width=30%>\n",
    "</p>\n",
    "\n",
    "# A High Performance Computational Imaging Framework for Python"
   ]
  },
  {
   "cell_type": "markdown",
   "id": "c41a2fbe-38b1-40d3-8013-694e46e01fe9",
   "metadata": {},
   "source": [
    "## The ``Pyxu`` Framework\n",
    "\n",
    "[Pyxu](https://github.com/pyxu-org/pyxu) is an *open-source computational imaging software framework* for Python 3 with native support for *hardware acceleration* and *distributed computing*. The latter adopts a modular and interoperable *microservice architecture* providing **highly optimised and scalable** general-purpose computational imaging functionalities and tools, easy to **reuse and share across imaging modalities**. \n",
    "\n",
    "These include notably:\n",
    "* a rich collection of matrix-free sensing operators and cost/penalty functionals, which can easily be combined via an **advanced operator algebra logic**,\n",
    "* a complete base class hierarchy for implementing new, custom operators, \n",
    "* a comprehensive algorithmic suite featuring *generic* and *plug-and-play* state-of-the-art proximal methods,\n",
    "* a *test suite* performing extensive **logical and functional** testing of Pycsou components.   "
   ]
  },
  {
   "cell_type": "markdown",
   "id": "f0741485-f011-40a5-975d-a4b031c65288",
   "metadata": {},
   "source": [
    "## Matrix-Free Operators\n",
    "\n",
    "Operators in Pyxu are **mostly** matrix-free, that is they are defined implicitly via their methods defining forward/backward evaluation, differentiation or proximation. For example, linear operators are defined via the ``apply()`` and ``adjoint()`` methods and **not** via their matrix representation: \n",
    "\n",
    "```python\n",
    "class Sum(LinOp):\n",
    "    def __init__(self, dim_shape):\n",
    "        super().__init__(dim_shape=dim_shape, codim_shape=1)\n",
    "    \n",
    "    def apply(self, arr):\n",
    "        return arr.sum()\n",
    "    \n",
    "    def adjoint(self, arr):\n",
    "        return arr * np.ones(self.dim_shape)\n",
    "```\n",
    "\n",
    "Matrix-free operators are much more **scalable** (no need to store a huge matrix unecessarily). All methods from the ``LinOp`` base class are matrix-free compatible (e.g., ``lipschitz()``, ``svdvals()``, ``trace()``)."
   ]
  },
  {
   "cell_type": "code",
   "execution_count": null,
   "id": "aee589d9-2dc1-403b-a1ff-1e885023ca6f",
   "metadata": {},
   "outputs": [],
   "source": [
    "# Matrix Free operator\n",
    "import numpy as np\n",
    "from pyxu.abc.operator import LinOp\n",
    "\n",
    "class Sum(LinOp):\n",
    "    def __init__(self, dim_shape):\n",
    "        super().__init__(dim_shape=dim_shape, codim_shape=1)\n",
    "    \n",
    "    def apply(self, arr):\n",
    "        return arr.sum())\n",
    "    \n",
    "    def adjoint(self, arr):\n",
    "        return arr * np.ones(self.dim_shape)\n",
    "\n",
    "dim_shape = (10_000, 10_000)\n",
    "image = np.random.randn(*dim_shape)\n",
    "\n",
    "sum_matrix_free = Sum(dim_shape=dim_shape)\n",
    "sum_matrix_form = lambda arr: np.ones(image.size).dot(arr.ravel())"
   ]
  },
  {
   "cell_type": "code",
   "execution_count": null,
   "id": "05fa27d4-e658-4a42-a82a-8cf31ea7a013",
   "metadata": {},
   "outputs": [],
   "source": [
    "assert np.isclose(sum_matrix_free(image), sum_matrix_form(image))"
   ]
  },
  {
   "cell_type": "code",
   "execution_count": null,
   "id": "da039d19-7fe7-4c63-ac04-a82c72d8e8d2",
   "metadata": {},
   "outputs": [],
   "source": [
    "import timeit"
   ]
  },
  {
   "cell_type": "code",
   "execution_count": null,
   "id": "b1538856-3eed-4f88-b33b-0c707864c8fc",
   "metadata": {},
   "outputs": [],
   "source": [
    "%timeit out1 = sum_matrix_free(image)\n",
    "%timeit out2 = sum_matrix_form(image)"
   ]
  },
  {
   "cell_type": "markdown",
   "id": "1e301c8b-fc81-42d5-9984-7bf01b2c4c8d",
   "metadata": {},
   "source": [
    "## Operator Algebra Logic\n",
    "\n",
    "Complex operators can be constructed by composing Pyxu's fundamental building blocks via the following set of arithmetic operations:\n",
    "\n",
    "```python\n",
    ">> op1 + op2 # Addition of two operators\n",
    ">> op1 * op2 # Composition of two operators\n",
    ">> op ** 3   # Exponentiation of an operator\n",
    ">> op.argscale(c), op.argshift(x) # Dilation/shifting\n",
    ">> 4 * op # Scaling\n",
    "```\n",
    "In each case, the type of the output is automatically determined from the set of properties of both operators preserved by the arithmetic operation with all methods inferred from those of the operands. \n",
    "\n",
    "In particular, the methods``apply()``, ``jacobian()``, ``grad()``, ``prox()``, ``adjoint()`` are updated via chain rules, allowing users to use the composite operators in proximal gradient algorithms without having to worry about implementing gradients/proximal steps."
   ]
  },
  {
   "cell_type": "code",
   "execution_count": null,
   "id": "7937f77f-e5d3-4c85-b12c-76966e28c09c",
   "metadata": {},
   "outputs": [],
   "source": [
    "from pyxu.operator import L1Norm, L2Norm"
   ]
  },
  {
   "cell_type": "code",
   "execution_count": null,
   "id": "38d5481c-a5d9-4b9e-b780-3e36565449b4",
   "metadata": {},
   "outputs": [],
   "source": [
    "op1 = L1Norm(dim_shape)\n",
    "op2 = L2Norm(dim_shape)\n",
    "\n",
    "(op1 + op2)(image)"
   ]
  },
  {
   "cell_type": "code",
   "execution_count": null,
   "id": "b4861bfe-4fdd-466a-895e-bf501768699f",
   "metadata": {},
   "outputs": [],
   "source": [
    "from pyxu.operator import L21Norm, Gradient"
   ]
  },
  {
   "cell_type": "code",
   "execution_count": null,
   "id": "257d8dea-776f-4597-b55b-a32e19aea74c",
   "metadata": {},
   "outputs": [],
   "source": [
    "op1 = L21Norm((2,) + dim_shape, l2_axis=0)\n",
    "op2 = Gradient(dim_shape)\n",
    "op3 = op1 * op2\n",
    "print(op3)\n",
    "op3._expr()"
   ]
  },
  {
   "cell_type": "markdown",
   "id": "c879b6f7-fba3-4ef3-b18b-42cce4dcb15f",
   "metadata": {},
   "source": [
    "## Lipschitz constants\n",
    "\n",
    "Pyxu operators all come with (not necessarily tight) Lipschitz/diff-Lipschitz constants which can be accessed via the methods ``lipschitz()`` and ``diff_lipschitz()`` respectively. This is useful for automatically choosing suitable step sizes in optimisation algorithms (done under the hood by Pyxu's algorithmic suite). \n",
    "\n",
    "\n",
    "For user-defined operators with unknown Lipschitz constant, calling ``lipschitz()`` for the first time will compute the Frobenius norm of the operator and use it as a rough Lipschitz constant (cached for subsequent calls):\n",
    "\n",
    "$$ \\|A\\|_2\\leq \\|A\\|_F=\\text{trace}(AA^\\ast)=\\text{trace}(A^\\ast A)\\leq \\sqrt{\\min(N,M)} \\|A\\|_2$$\n",
    "\n",
    "This Lipschitz constant is generally not tight (tight for flat spectra), but very cheap to compute (we use the *Hutch++ stochastic algorithm* under the hood). \n",
    "\n"
   ]
  },
  {
   "cell_type": "code",
   "execution_count": null,
   "id": "db31c8d1-856f-4081-b1cd-c02f5778d5d7",
   "metadata": {
    "scrolled": true
   },
   "outputs": [],
   "source": [
    "from pyxu.operator import Gradient\n",
    "dim_shape = (256, 256)\n",
    "\n",
    "gradient = Gradient(dim_shape)"
   ]
  },
  {
   "cell_type": "code",
   "execution_count": null,
   "id": "db83295b-bda3-411f-9757-66be3e2d17f1",
   "metadata": {},
   "outputs": [],
   "source": [
    "%time L_svd = gradient.estimate_lipschitz(method=\"svd\")"
   ]
  },
  {
   "cell_type": "code",
   "execution_count": null,
   "id": "79f68a49-eeca-4cfe-86e1-879a33becca4",
   "metadata": {},
   "outputs": [],
   "source": [
    "%time L_hutchpp = gradient.estimate_lipschitz(method=\"trace\")"
   ]
  },
  {
   "cell_type": "code",
   "execution_count": null,
   "id": "d4282e9c-1030-4d1f-a8dd-c559fbd44e1b",
   "metadata": {},
   "outputs": [],
   "source": [
    "print(gradient.lipschitz, L_svd, L_hutchpp)"
   ]
  }
 ],
 "metadata": {
  "kernelspec": {
   "display_name": "Python 3 (ipykernel)",
   "language": "python",
   "name": "python3"
  },
  "language_info": {
   "codemirror_mode": {
    "name": "ipython",
    "version": 3
   },
   "file_extension": ".py",
   "mimetype": "text/x-python",
   "name": "python",
   "nbconvert_exporter": "python",
   "pygments_lexer": "ipython3",
   "version": "3.11.8"
  }
 },
 "nbformat": 4,
 "nbformat_minor": 5
}
